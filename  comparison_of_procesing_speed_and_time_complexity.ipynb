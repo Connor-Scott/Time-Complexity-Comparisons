{
 "cells": [
  {
   "cell_type": "code",
   "execution_count": 1,
   "id": "4cd0c5ff-c696-4ca8-acc2-05baff97fe8a",
   "metadata": {},
   "outputs": [],
   "source": [
    "import timeit\n",
    "import random as r "
   ]
  },
  {
   "cell_type": "code",
   "execution_count": 2,
   "id": "12bcef4b-e08b-4aa4-a4c4-f8eba1e5f451",
   "metadata": {},
   "outputs": [],
   "source": [
    "# Presented here are two solutions to an example poblem: \n",
    "# The question asks how many numbers in an array \"a\" are evenly divisible by a number \"k\"\n",
    "# without repeating combinations "
   ]
  },
  {
   "cell_type": "code",
   "execution_count": 3,
   "id": "224935ec-0f9f-406d-a43c-16d375a5655b",
   "metadata": {},
   "outputs": [],
   "source": [
    "# solution with O(n^2) time complexity \n",
    "def slow_solution(a, k):\n",
    "    ans = 0 \n",
    "    for i in range(0, len(a)):\n",
    "        for n in range(1+i, len(a)):\n",
    "            if (a[i] + a[n]) % k == 0: ans += 1\n",
    "            else: pass\n",
    "    return ans"
   ]
  },
  {
   "cell_type": "code",
   "execution_count": 4,
   "id": "6b0d5e31-d370-4af6-aca8-ae402a135cf3",
   "metadata": {},
   "outputs": [],
   "source": [
    "# solution with O(1) time complexity \n",
    "def faster_solution(a, k):\n",
    "    remainder_count = {}\n",
    "    ans = 0\n",
    "\n",
    "    for num in a:\n",
    "        remainder = num % k\n",
    "        complement = (k - remainder) % k\n",
    "        ans += remainder_count.get(complement, 0)\n",
    "        remainder_count[remainder] = remainder_count.get(remainder, 0) + 1\n",
    "        \n",
    "    return ans"
   ]
  },
  {
   "cell_type": "code",
   "execution_count": 5,
   "id": "d64b77fb-ed4f-450d-81f5-a5ca72cd368a",
   "metadata": {},
   "outputs": [],
   "source": [
    "# generating random numbers for array and number to divide by\n",
    "a = [r.randint(1, 100000000) for i in range(5000)]\n",
    "k = r.randint(1, 50)"
   ]
  },
  {
   "cell_type": "code",
   "execution_count": 6,
   "id": "4b7aaa92-22d2-4e0a-b632-f9cb3d33fe62",
   "metadata": {},
   "outputs": [
    {
     "name": "stdout",
     "output_type": "stream",
     "text": [
      "First 15 numbers of array a:\n",
      "[61271727, 2570470, 48707060, 48794978, 20283211, 38232980, 9763756, 41849818, 86955177, 97945781, 12310004, 21536902, 58735853, 4047107]\n",
      "How many combinations of these numbers are divisible by 36 without repeating combinations?\n"
     ]
    }
   ],
   "source": [
    "print(f\"First 15 numbers of array a:\\n{a[0:14]}\")\n",
    "print(f\"How many combinations of these numbers are divisible by {k} without repeating combinations?\")"
   ]
  },
  {
   "cell_type": "code",
   "execution_count": 7,
   "id": "6b46622f-57a7-4b2d-94ab-b266c6daba53",
   "metadata": {},
   "outputs": [],
   "source": [
    "# taking 20 runs of the solution to get an average of the processing speed\n",
    "time_faster_solution = timeit.timeit(stmt='faster_solution(a, k)', globals=globals(), number=20)\n",
    "time_nested_loop = timeit.timeit(stmt='slow_solution(a, k)', globals=globals(), number=20)"
   ]
  },
  {
   "cell_type": "code",
   "execution_count": 8,
   "id": "7546940b-7f9b-4feb-a397-660a0d47ea11",
   "metadata": {},
   "outputs": [
    {
     "name": "stdout",
     "output_type": "stream",
     "text": [
      "Optimized Solution, O(1): \n",
      "Answer: 347021    Speed: 0.011699041991960257s\n",
      "\n",
      "Nested For Loop Solution, O(n^2): \n",
      "Asnwer 347021    Speed: 13.807756207999773s\n"
     ]
    }
   ],
   "source": [
    "print(f\"Optimized Solution, O(1): \\nAnswer: {faster_solution(a, k)}    Speed: {time_faster_solution}s\") \n",
    "print(f\"\\nNested For Loop Solution, O(n^2): \\nAsnwer {slow_solution(a, k)}    Speed: {time_nested_loop}s\")"
   ]
  }
 ],
 "metadata": {
  "kernelspec": {
   "display_name": "Python 3 (ipykernel)",
   "language": "python",
   "name": "python3"
  },
  "language_info": {
   "codemirror_mode": {
    "name": "ipython",
    "version": 3
   },
   "file_extension": ".py",
   "mimetype": "text/x-python",
   "name": "python",
   "nbconvert_exporter": "python",
   "pygments_lexer": "ipython3",
   "version": "3.10.5"
  }
 },
 "nbformat": 4,
 "nbformat_minor": 5
}
